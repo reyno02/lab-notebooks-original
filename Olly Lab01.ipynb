{
  "cells": [
    {
      "cell_type": "markdown",
      "metadata": {
        "id": "8LcBchW8AfgH"
      },
      "source": [
        "<a href=\"https://colab.research.google.com/github/LMU-CMSI-1010/lab-notebooks-original/blob/main/Lab01.ipynb\" target=\"_parent\"><img src=\"https://colab.research.google.com/assets/colab-badge.svg\" alt=\"Open In Colab\"/></a>"
      ]
    },
    {
      "cell_type": "markdown",
      "metadata": {
        "id": "9aXfrLXg9seM"
      },
      "source": [
        "# Lab 01 Taking Orders\n",
        "***\n",
        "In this lab you will practice using strings, variables, printing, and getting input from a user.\n",
        "\n",
        "## Greeting your customer\n",
        "**In the following cell, print a statement to greet your customers and ask their names. Save their names in a variable, so you can use it later.**\n",
        "\n"
      ]
    },
    {
      "cell_type": "code",
      "execution_count": 2,
      "metadata": {
        "id": "BvyaiHRdlsXj",
        "colab": {
          "base_uri": "https://localhost:8080/"
        },
        "outputId": "c4792903-ce0f-4fac-e9c3-cb6ca308e1a7"
      },
      "outputs": [
        {
          "output_type": "stream",
          "name": "stdout",
          "text": [
            "Welcome to Reynolds Resturant!\n",
            "What is your name?Michael\n",
            "Customer name:Michael\n"
          ]
        }
      ],
      "source": [
        "# TODO: Greet your customer and ask for their name\n",
        "print('Welcome to Reynolds Resturant!')\n",
        "# TODO: Save their name in a variable\n",
        "name = input('What is your name?')\n",
        "print('Customer name:' + name)"
      ]
    },
    {
      "cell_type": "markdown",
      "metadata": {
        "id": "LCUmYgcomFGg"
      },
      "source": [
        "## Ask for their order by name\n",
        "**In the following cell repeat the customer’s name and ask for their drink and meal order. Remember to save the drink as a variable and also save the meal as another variable.**\n"
      ]
    },
    {
      "cell_type": "code",
      "execution_count": 12,
      "metadata": {
        "id": "5DUZ_9hPmxCi",
        "colab": {
          "base_uri": "https://localhost:8080/"
        },
        "outputId": "cd5bf492-1ab6-489a-9117-0e40f0ac00bd"
      },
      "outputs": [
        {
          "output_type": "stream",
          "name": "stdout",
          "text": [
            "MichaelWhat drink would you like? A Beer\n",
            " A Beer\n",
            "MichaelWhat do you want to eat? Fish and Chips\n",
            " Fish and Chips\n"
          ]
        }
      ],
      "source": [
        "# TODO: Use the customer's name to ask for drink order\n",
        "drink = input(name + 'What drink would you like?') \n",
        "print(drink)\n",
        "# TODO: Use the customer's name to ask for meal order\n",
        "meal = input(name + 'What do you want to eat?')\n",
        "print(meal)"
      ]
    },
    {
      "cell_type": "markdown",
      "metadata": {
        "id": "4dODrt9WnO-v"
      },
      "source": [
        "## Repeat their order \n",
        "In the following cell, **thank your customer by name and repeat their order to them. Make sure you use the correct variables when you repeat it.**"
      ]
    },
    {
      "cell_type": "code",
      "execution_count": 13,
      "metadata": {
        "id": "ncutxJBKniMh",
        "colab": {
          "base_uri": "https://localhost:8080/"
        },
        "outputId": "059ff2b2-88f3-4a35-89a8-697231c2b4fa"
      },
      "outputs": [
        {
          "output_type": "stream",
          "name": "stdout",
          "text": [
            "Thank you,MichaelFor placing the order\n",
            "Please let me repeat your order for you.\n",
            "I see you ordered A Beerand Fish and Chips\n"
          ]
        }
      ],
      "source": [
        "print('Thank you,' + name + 'For placing the order')\n",
        "print('Please let me repeat your order for you.')\n",
        "print('I see you ordered' + drink + 'and' + meal)"
      ]
    },
    {
      "cell_type": "markdown",
      "source": [],
      "metadata": {
        "id": "xQ5ZneL5U7SE"
      }
    },
    {
      "cell_type": "markdown",
      "metadata": {
        "id": "O8oF7J1OmCnQ"
      },
      "source": [
        "## Challenge—figuring out your bill!\n",
        "Since we don’t have a menu in this lab notebook, we don’t know what our meals should cost. We’ll trust the restaurant to tell you how much your total bill is and the percentage of your original bill that will comprise the tip. Tax is always 10% of the original bill. It randomly chooses your total bill and tip percentage for you. Can you use this information to find out what your original bill costs before the tip?"
      ]
    },
    {
      "cell_type": "code",
      "execution_count": 14,
      "metadata": {
        "id": "mCuyN8JZqPhI",
        "colab": {
          "base_uri": "https://localhost:8080/"
        },
        "outputId": "9f431434-a5cf-4161-eb20-c3bb0bef6165"
      },
      "outputs": [
        {
          "output_type": "stream",
          "name": "stdout",
          "text": [
            "Thank you. Your total bill is $28.89. Your tip percentage is 19%. Tax is 10%.\n"
          ]
        }
      ],
      "source": [
        "# The following code is given to you and does not need to be modified\n",
        "import random\n",
        "\n",
        "# We select a random float between 10 and 30 for the total bill\n",
        "total_bill = round(random.uniform(10, 30), 2)\n",
        "\n",
        "# We select a random integer tip percentage amount between 10 and 25 \n",
        "tip = random.randint(10, 25)\n",
        "print('Thank you. Your total bill is $' + str(total_bill) + '. Your tip percentage is ' + str(tip) +'%. Tax is 10%.')"
      ]
    },
    {
      "cell_type": "markdown",
      "metadata": {
        "id": "OIWaikgzrzdR"
      },
      "source": [
        "**Edit the following cell to figure out what your original bill was.** We print it, but right now we always print the same value for the original bill"
      ]
    },
    {
      "cell_type": "code",
      "execution_count": 17,
      "metadata": {
        "id": "TM3VQOMVtiU4",
        "colab": {
          "base_uri": "https://localhost:8080/"
        },
        "outputId": "1ebe2d0e-e7bc-465a-dd03-c8183d7c4e5a"
      },
      "outputs": [
        {
          "output_type": "stream",
          "name": "stdout",
          "text": [
            "Your original bill is $10.\n"
          ]
        }
      ],
      "source": [
        "# TODO: Change this code below to figure out your original bill. Right now, it is always 10.\n",
        "original_bill = 10\n",
        "\n",
        "# No need to change below\n",
        "print('Your original bill is $' + str(original_bill) + '.')"
      ]
    },
    {
      "cell_type": "markdown",
      "metadata": {
        "id": "dKL0LYd-E4JB"
      },
      "source": [
        "### (optional) Reflections\n",
        "Add a text cell below to answer the following questions:\n",
        "1. What do you feel more confident about after completing this lab?\n",
        "2. What do you feel you can use more help with after completing this lab?\n",
        "3. Do you have any constructive suggestions on how we can help you or improve this lab?"
      ]
    },
    {
      "cell_type": "markdown",
      "metadata": {
        "id": "gB1aHDpyFYey"
      },
      "source": [
        "### Save your work to GitHub\n",
        "Please save this notebook to your lab repository."
      ]
    },
    {
      "cell_type": "code",
      "execution_count": null,
      "metadata": {
        "id": "IljsrYqWAfgU"
      },
      "outputs": [],
      "source": [
        "\n"
      ]
    }
  ],
  "metadata": {
    "kernelspec": {
      "display_name": "Python 3.10.0 64-bit",
      "language": "python",
      "name": "python3"
    },
    "language_info": {
      "codemirror_mode": {
        "name": "ipython",
        "version": 3
      },
      "file_extension": ".py",
      "mimetype": "text/x-python",
      "name": "python",
      "nbconvert_exporter": "python",
      "pygments_lexer": "ipython3",
      "version": "3.10.0"
    },
    "vscode": {
      "interpreter": {
        "hash": "aee8b7b246df8f9039afb4144a1f6fd8d2ca17a180786b69acc140d282b71a49"
      }
    },
    "colab": {
      "provenance": []
    }
  },
  "nbformat": 4,
  "nbformat_minor": 0
}