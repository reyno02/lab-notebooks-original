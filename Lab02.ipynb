{
  "cells": [
    {
      "cell_type": "markdown",
      "metadata": {
        "id": "ufAF2GF2-PbJ"
      },
      "source": [
        "<a href=\"https://colab.research.google.com/github/LMU-CMSI-1010/lab-notebooks-original/blob/main/Lab02.ipynb\" target=\"_parent\"><img src=\"https://colab.research.google.com/assets/colab-badge.svg\" alt=\"Open In Colab\"/></a>"
      ]
    },
    {
      "cell_type": "markdown",
      "metadata": {
        "id": "9aXfrLXg9seM"
      },
      "source": [
        "# Lab 02 Sorting Hogwarts\n",
        "In this lab you will practice using conditional statements in order to sort your user into a Hogwarts house.\n",
        "\n",
        "## Asking for user preferences\n",
        "We will ask users a series of questions. This code will be provided to you. You will need to save responses from users and keep track of the preferences in terms of counts for each house.\n",
        "\n"
      ]
    },
    {
      "cell_type": "markdown",
      "metadata": {
        "id": "oH_PT-1bu19E"
      },
      "source": [
        "## Counts for each House\n",
        "We will use the following integer variables to keep track of whether the response given by users should place them in the house. There is a variable for each house and we will guide you when to increment each. Remember that *increment* means to add 1 to its value."
      ]
    },
    {
      "cell_type": "code",
      "execution_count": 38,
      "metadata": {
        "id": "O2m4hak_va-j"
      },
      "outputs": [],
      "source": [
        "# Variables to keep track of responses that show preferences for each House\n",
        "# You do not need to change the code in this cell and will use these variables \n",
        "# for the rest of the lab\n",
        "# The name of each variable is a House and you will increment if the user\n",
        "# response shows preference for that House. \n",
        "gryffindor = 3\n",
        "hufflepuff = 0\n",
        "ravenclaw = 0\n",
        "slytherin = 0"
      ]
    },
    {
      "cell_type": "markdown",
      "metadata": {
        "id": "LCUmYgcomFGg"
      },
      "source": [
        "## Q1: "
      ]
    },
    {
      "cell_type": "code",
      "execution_count": 8,
      "metadata": {
        "id": "5DUZ_9hPmxCi",
        "outputId": "63db89e3-f6ff-455e-a983-9f17c8c24f93",
        "colab": {
          "base_uri": "https://localhost:8080/"
        }
      },
      "outputs": [
        {
          "output_type": "stream",
          "name": "stdout",
          "text": [
            "After I have passed away, I want people to remember me as:\n",
            "  1) The Good\n",
            "  2) The Great\n",
            "  3) The Wise\n",
            "  4) The Bold\n"
          ]
        }
      ],
      "source": [
        "# Question 1\n",
        "print('After I have passed away, I want people to remember me as:')\n",
        "print('  1) The Good')\n",
        "print('  2) The Great')\n",
        "print('  3) The Wise')\n",
        "print('  4) The Bold')\n",
        "\n"
      ]
    },
    {
      "cell_type": "markdown",
      "metadata": {
        "id": "GbGRzW9SwaW7"
      },
      "source": [
        "In the following cell, **ask the user to enter a corresponding number from above (e.g. \"Please enter your number choice\") and save the response from the user**. Remember that when a user enters a response, Python treats it as a string until told to treat as number."
      ]
    },
    {
      "cell_type": "code",
      "execution_count": 7,
      "metadata": {
        "id": "LLzzUjIGwZix",
        "outputId": "ce7808c5-d3d1-4c7b-cc48-34600cff82f0",
        "colab": {
          "base_uri": "https://localhost:8080/"
        }
      },
      "outputs": [
        {
          "name": "stdout",
          "output_type": "stream",
          "text": [
            "Please enter your choice number 4\n"
          ]
        }
      ],
      "source": [
        "# TODO: Prompt user to enter number choice and save the number entered as a variable.\n",
        "number_choice = input('Please enter your choice number')"
      ]
    },
    {
      "cell_type": "markdown",
      "metadata": {
        "id": "5yNGFER9xNjc"
      },
      "source": [
        "In the following cell, **based on the response from the user, increment the appropriate House count**. You will complete the conditional statement as specified in the comments. Right now it always prints good choice. (Why?) \\ \"Because it is always checking if input in 1 (The Good) only in previous code, otherwise\""
      ]
    },
    {
      "cell_type": "code",
      "execution_count": 21,
      "metadata": {
        "id": "_lGcvdh5xw6C",
        "outputId": "1f906298-c74f-4100-a4cd-e1295f1274df",
        "colab": {
          "base_uri": "https://localhost:8080/"
        }
      },
      "outputs": [
        {
          "output_type": "stream",
          "name": "stdout",
          "text": [
            "Invalid choice\n"
          ]
        }
      ],
      "source": [
        "# Change this if statement as specified in the comments\n",
        "if number_choice == 1:\n",
        "  hufflepuff += 1\n",
        "elif number_choice == 2:\n",
        "  slytherin += 1\n",
        "elif number_choice == 3:\n",
        "  ravenclaw += 1\n",
        "elif number_choice == 4:\n",
        "  gryffindor += 1\n",
        "# Error handling: What happens if the user's input is not 1, 2, 3, or 4?\n",
        "# This else clause can be kept as is\n",
        "else:\n",
        "    print('Invalid choice')"
      ]
    },
    {
      "cell_type": "markdown",
      "metadata": {
        "id": "4dODrt9WnO-v"
      },
      "source": [
        "## Q2:"
      ]
    },
    {
      "cell_type": "code",
      "execution_count": 10,
      "metadata": {
        "id": "ncutxJBKniMh",
        "outputId": "ffb51d61-7f1a-4a2e-97c3-58a565916e3a",
        "colab": {
          "base_uri": "https://localhost:8080/"
        }
      },
      "outputs": [
        {
          "output_type": "stream",
          "name": "stdout",
          "text": [
            "Q2) Dawn or Dusk?\n",
            "  1) Dawn\n",
            "  2) Dusk\n"
          ]
        }
      ],
      "source": [
        "print('Q2) Dawn or Dusk?')\n",
        "print('  1) Dawn')\n",
        "print('  2) Dusk')"
      ]
    },
    {
      "cell_type": "code",
      "execution_count": 12,
      "metadata": {
        "id": "6dSl_gTHzfBm",
        "outputId": "b05e5efd-6400-49ea-ac22-2ff3a381da1a",
        "colab": {
          "base_uri": "https://localhost:8080/"
        }
      },
      "outputs": [
        {
          "name": "stdout",
          "output_type": "stream",
          "text": [
            "Pleae enter your number choice. 1\n"
          ]
        }
      ],
      "source": [
        "number_choice2 = input('Pleae enter your number choice.')"
      ]
    },
    {
      "cell_type": "markdown",
      "metadata": {
        "id": "R3rSX1wpztIC"
      },
      "source": [
        "In the following cell, **based on the response from the user, increment the appropriate House count**. You will complete the conditional statement as specified in the comments. (This is not a good way to write a conditional statement!)"
      ]
    },
    {
      "cell_type": "code",
      "execution_count": 20,
      "metadata": {
        "id": "Xf2dy7QWz1iQ",
        "outputId": "46566531-c350-47b2-e0f2-90251ee360d8",
        "colab": {
          "base_uri": "https://localhost:8080/"
        }
      },
      "outputs": [
        {
          "output_type": "stream",
          "name": "stdout",
          "text": [
            "Invalid choice\n"
          ]
        }
      ],
      "source": [
        "# Change this statement as specified to increment the appropriate house based on \n",
        "# the user response\n",
        "if number_choice2 == 1:\n",
        "  gryffindor += 1\n",
        "  ravenclaw += 1\n",
        "elif number_choice2 == 2:\n",
        "  slytherin += 1\n",
        "  hufflepuff += 1\n",
        "# The else clause can be left as is\n",
        "else:\n",
        "    print('Invalid choice')"
      ]
    },
    {
      "cell_type": "markdown",
      "metadata": {
        "id": "E5-kf-6n05Fb"
      },
      "source": [
        "## Q3:"
      ]
    },
    {
      "cell_type": "code",
      "execution_count": 16,
      "metadata": {
        "id": "jDZDhGLQ08b0",
        "outputId": "2c47d04e-78c2-4655-aa21-cb70f89dda05",
        "colab": {
          "base_uri": "https://localhost:8080/"
        }
      },
      "outputs": [
        {
          "output_type": "stream",
          "name": "stdout",
          "text": [
            "Which kind of instrument most pleases your ear?\n",
            "  1) The violin\n",
            "  2) The trumpet\n",
            "  3) The piano\n",
            "  4) The drum\n"
          ]
        }
      ],
      "source": [
        "# Question 3\n",
        "print('Which kind of instrument most pleases your ear?')\n",
        "print('  1) The violin')\n",
        "print('  2) The trumpet')\n",
        "print('  3) The piano')\n",
        "print('  4) The drum')"
      ]
    },
    {
      "cell_type": "code",
      "execution_count": 17,
      "metadata": {
        "id": "yn1MVik70-X6",
        "outputId": "82c7accd-914e-44cb-cda8-fb2785978e54",
        "colab": {
          "base_uri": "https://localhost:8080/"
        }
      },
      "outputs": [
        {
          "name": "stdout",
          "output_type": "stream",
          "text": [
            "Please enter your number choice 4\n"
          ]
        }
      ],
      "source": [
        "number_choice3 = input('Please enter your number choice')"
      ]
    },
    {
      "cell_type": "markdown",
      "metadata": {
        "id": "jrWA13-t1DII"
      },
      "source": [
        "In the following cell, **based on the response from the user, increment the appropriate House count**. You will complete the conditional statement as specified in the comments."
      ]
    },
    {
      "cell_type": "code",
      "execution_count": 22,
      "metadata": {
        "id": "XSZb06PT1S59",
        "outputId": "c534239f-9f87-44a1-9639-fb3bc925a23d",
        "colab": {
          "base_uri": "https://localhost:8080/"
        }
      },
      "outputs": [
        {
          "output_type": "stream",
          "name": "stdout",
          "text": [
            "Invalid choice\n"
          ]
        }
      ],
      "source": [
        "# Change this statement as specified to increment the appropriate house based on \n",
        "# the user response\n",
        "if number_choice3 == 1:\n",
        "  slytherin += 1\n",
        "elif number_choice3 == 2:\n",
        "  hufflepuff += 1\n",
        "elif number_choice3 == 3:\n",
        "  ravenclaw += 1\n",
        "elif number_choice3 == 4:\n",
        "  gryffindor += 1\n",
        "# This else clause can remain unchanged\n",
        "else:\n",
        "    print('Invalid choice')"
      ]
    },
    {
      "cell_type": "markdown",
      "metadata": {
        "id": "O8oF7J1OmCnQ"
      },
      "source": [
        "## Q4:\n",
        "Here's where we will need to practice *nested conditional* statements. *Nested conditional* statements are *if* statements within *if* statements. Here we will ask all users the same question. However, based on their response within the *if* statement you will need to ask another question and then increment the appropriate House count. We will get this started and save the first response."
      ]
    },
    {
      "cell_type": "code",
      "execution_count": 23,
      "metadata": {
        "id": "GWIPxLAS2ZgN",
        "outputId": "ead68cc3-428b-44ad-8f7a-c15234ff43dd",
        "colab": {
          "base_uri": "https://localhost:8080/"
        }
      },
      "outputs": [
        {
          "name": "stdout",
          "output_type": "stream",
          "text": [
            "Do roads in nature tempt you the most?\n",
            "  1) Yes\n",
            "  2) No\n",
            "Please enter a number to answer:1\n"
          ]
        }
      ],
      "source": [
        "print('Do roads in nature tempt you the most?')\n",
        "print('  1) Yes')\n",
        "print('  2) No')\n",
        "\n",
        "choice = input('Please enter a number to answer:')\n",
        "select = int(choice)"
      ]
    },
    {
      "cell_type": "markdown",
      "metadata": {
        "id": "tuPX7Li-2YGw"
      },
      "source": [
        "Now based on the user reply, you will have to **ask the user the specific type of road and then use that to increment the appropriate house count**. We started out this if statement in the following cell and you will need to complete it by adding nested if statements and incrementing house counts as specified in the comments."
      ]
    },
    {
      "cell_type": "code",
      "execution_count": 36,
      "metadata": {
        "id": "mCuyN8JZqPhI",
        "colab": {
          "base_uri": "https://localhost:8080/",
          "height": 130
        },
        "outputId": "92a1f44a-281e-41b5-fc50-1b5dfc69b56b"
      },
      "outputs": [
        {
          "output_type": "error",
          "ename": "SyntaxError",
          "evalue": "ignored",
          "traceback": [
            "\u001b[0;36m  File \u001b[0;32m\"<ipython-input-36-ee2018edd226>\"\u001b[0;36m, line \u001b[0;32m26\u001b[0m\n\u001b[0;31m    else:\u001b[0m\n\u001b[0m       ^\u001b[0m\n\u001b[0;31mSyntaxError\u001b[0m\u001b[0;31m:\u001b[0m invalid syntax\n"
          ]
        }
      ],
      "source": [
        "if select == 1:\n",
        "  \n",
        "  print('Which do you prefer')\n",
        "  print('  1) The wide, suny grassy lane')\n",
        "  print('  2) The twisting, leaf-strewn path through woods') \n",
        "\n",
        "  choice1 = input('Please enter a number to answer:')\n",
        "  if choice1 == 1:\n",
        "    hufflepuff += 1\n",
        "else:\n",
        "    gryffindor += 1\n",
        "  \n",
        "  \n",
        "if select == 2:\n",
        "\n",
        "    print('Which do you prefer')\n",
        "    print('  1) The narrow, dark, lantern-lit alley')\n",
        "    print('  2) The cobbled street lined with ancient buildings')\n",
        "\n",
        "choice2 = input('Please enter a number to answer:')\n",
        "if choice2 == 1:\n",
        "  slytherin += 1\n",
        "else:\n",
        "  ravenclaw += 1\n",
        "\n",
        "else:\n",
        "    print('Invalid choice')\n"
      ]
    },
    {
      "cell_type": "markdown",
      "metadata": {
        "id": "OIWaikgzrzdR"
      },
      "source": [
        "## Challenge! Determining Appropriate House\n",
        "Now that we have tallied all the responses, can you figure out which house has the maximum number of responses? That will be the house for the user. If there is a tie, break the tie using alphabetical order: Gryffindor, Hufflepuff, Ravenclaw, Slytherin (in that order). We will get you started and show what needs to be printed, but you need to **figure out what house has the maximum count** using the count variables above.\n"
      ]
    },
    {
      "cell_type": "code",
      "execution_count": 40,
      "metadata": {
        "id": "TM3VQOMVtiU4",
        "outputId": "db45d0fc-2016-4608-b54e-822d44e40e1f",
        "colab": {
          "base_uri": "https://localhost:8080/"
        }
      },
      "outputs": [
        {
          "output_type": "stream",
          "name": "stdout",
          "text": [
            "Congrats on being sorted into...Gryffindor!\n"
          ]
        }
      ],
      "source": [
        "# Let's make a string variable to keep track of the house.\n",
        "house = 'None'\n",
        "\n",
        "# Let's keep track of the max_count\n",
        "max = 0\n",
        "\n",
        "# How can you find the House with the max count?\n",
        "# Remember that in the event of a tie, the user should be sorted into\n",
        "# the House in alphabetical order, so\n",
        "# Gryffindor before Hufflepuff before Ravenclaw before Slytherin\n",
        "# Could comparing house counts in that order help you find the max?\n",
        "\n",
        "# if gryffindor is more than the current max, \n",
        "# update max and set house to 'Gryffindor'\n",
        "if gryffindor > max:\n",
        "    house = 'Gryffindor'\n",
        "    max = gryffindor\n",
        "\n",
        "if ravenclaw > max:\n",
        "    house = 'Ravenclaw'\n",
        "    max = ravenclaw\n",
        "\n",
        "if slytherin > max:\n",
        "    house = 'Slytherin'\n",
        "    max = slytherin\n",
        "\n",
        "if hufflepuff > max:\n",
        "    house = 'Hufflepuff'\n",
        "    max = hufflepuff\n",
        "\n",
        "# The following code does not need to be changed.\n",
        "# If the user entered all invalid responses and no house has any counts\n",
        "# the user cannot be sorted into a house, so it is fine if house is 'None'\n",
        "# at this point\n",
        "\n",
        "print('Congrats on being sorted into...' + house + '!')"
      ]
    },
    {
      "cell_type": "markdown",
      "metadata": {
        "id": "dKL0LYd-E4JB"
      },
      "source": [
        "### (Optional) Reflections\n",
        "Add a text cell below to answer the following questions:\n",
        "1. What do you feel more confident about after completing this lab?\n",
        "2. What do you feel you can use more help with after completing this lab?\n",
        "3. Do you have any constructive suggestions on how we can help you or improve this lab?"
      ]
    },
    {
      "cell_type": "markdown",
      "metadata": {
        "id": "gB1aHDpyFYey"
      },
      "source": [
        "### Save your work to GitHub\n",
        "Please save this notebook to your **lab repository** _LMU-CMSI-1010/lab-notebooks-YOURID_"
      ]
    },
    {
      "cell_type": "code",
      "execution_count": null,
      "metadata": {
        "id": "ah_Aa36K-Pb4"
      },
      "outputs": [],
      "source": []
    }
  ],
  "metadata": {
    "kernelspec": {
      "display_name": "Python 3",
      "language": "python",
      "name": "python3"
    },
    "language_info": {
      "codemirror_mode": {
        "name": "ipython",
        "version": 3
      },
      "file_extension": ".py",
      "mimetype": "text/x-python",
      "name": "python",
      "nbconvert_exporter": "python",
      "pygments_lexer": "ipython3",
      "version": "3.8.5"
    },
    "colab": {
      "provenance": []
    }
  },
  "nbformat": 4,
  "nbformat_minor": 0
}